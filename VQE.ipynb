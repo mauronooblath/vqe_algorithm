{
 "cells": [
  {
   "cell_type": "markdown",
   "metadata": {},
   "source": [
    "__Find the lowest eigenvalue of the following matrix:__"
   ]
  },
  {
   "cell_type": "markdown",
   "metadata": {},
   "source": [
    "__$$\n",
    "Hermitian Matrix = \\left[\n",
    "\\begin{array}{ccc}\n",
    "1 & 0 & 0 & 0  \\\\\n",
    "0 & 0 & -1 & 0 \\\\\n",
    "0 & -1 & 0 & 0 \\\\\n",
    "0 & 0  & 0 & 1\n",
    "\\end{array}\n",
    "\\right]\n",
    "$$__"
   ]
  },
  {
   "cell_type": "markdown",
   "metadata": {},
   "source": [
    "__Using VQE_like circuits by yourself from scratch__"
   ]
  },
  {
   "cell_type": "markdown",
   "metadata": {},
   "source": [
    "\n",
    "1. It requires decomposing the matrix to the sum of Pauli terms.\n",
    "2. Decomposition involves only terms consisting of the same matrices, i.e.: II, XX, YY, ZZ, and the coefficients are from the set [-1/2, -1, 0, 1, 1/2].\n",
    "3. The ansatz you can use is: (RX I) CX (HI) |00>, where angle in RX is your variational parameter.\n",
    "4. You can find an explanation of VQE in this blog post, You can also find links to further resources there.\n",
    "5. You can just search through all angles for RX, you don’t need to use any optimizers like gradient descent."
   ]
  },
  {
   "cell_type": "code",
   "execution_count": 2,
   "metadata": {},
   "outputs": [],
   "source": [
    "from qiskit import*\n",
    "from qiskit.visualization import*\n",
    "from math import*\n",
    "import matplotlib.pyplot as plt\n",
    "import numpy as np"
   ]
  },
  {
   "cell_type": "code",
   "execution_count": 4,
   "metadata": {},
   "outputs": [],
   "source": [
    "# First, let´s define Hermitian matrix as H\n",
    "\n",
    "H = np.matrix([[1,0,0,0],[0,0,-1,0],[0,-1,0,0],[0,0,0,1]])"
   ]
  },
  {
   "cell_type": "markdown",
   "metadata": {},
   "source": [
    "__To write Hermitian Matrix above sum of pauli terms (XX,YY,ZZ,II) we can use the following expression:__"
   ]
  },
  {
   "cell_type": "code",
   "execution_count": 6,
   "metadata": {},
   "outputs": [
    {
     "name": "stdout",
     "output_type": "stream",
     "text": [
      "H = -0.5xx + -0.5yy + 0.5zz + 0.5ii \n"
     ]
    }
   ],
   "source": [
    "xx = np.matrix([[0,0,0,1],[0,0,1,0],[0,1,0,0],[1,0,0,0]])\n",
    "yy = np.matrix([[0,0,0,-1],[0,0,1,0],[0,1,0,0],[-1,0,0,0]])\n",
    "zz = np.matrix([[1,0,0,0],[0,-1,0,0],[0,0,-1,-0],[0,0,0,1]])\n",
    "ii = np.matrix([[1,0,0,0],[0,1,0,0],[0,0,1,0],[0,0,0,1]])\n",
    "\n",
    "coef_xx = 0.25*np.trace(np.matmul(xx,H))\n",
    "coef_yy = 0.25*np.trace(np.matmul(yy,H))\n",
    "coef_zz = 0.25*np.trace(np.matmul(zz,H))\n",
    "coef_ii = 0.25*np.trace(np.matmul(ii,H))\n",
    "\n",
    "print('H = %.1fxx + %.1fyy + %.1fzz + %.1fii ' %(coef_xx,coef_yy,coef_zz,coef_ii))"
   ]
  },
  {
   "cell_type": "code",
   "execution_count": 7,
   "metadata": {},
   "outputs": [],
   "source": [
    "def var_circuit (variational_parameter):\n",
    "    circ = QuantumCircuit(2)\n",
    "    circ.rx(variational_parameter,0)\n",
    "    \n",
    "    circ.ry(variational_parameter,1)\n",
    "    circ.cx(0,1)\n",
    "    circ.h(0)\n",
    "    circ.i(1)\n",
    "    \n",
    "    return circ\n",
    "    \n",
    "\n",
    "\n",
    "def measureZZ (given_circuit):\n",
    "    zz_meas = given_circuit.copy()\n",
    "    zz_meas.measure_all()\n",
    "    return zz_meas\n",
    "\n",
    "\n",
    "def measure_ZZ(given_circuit,num_shots=10000):\n",
    "    \n",
    "    zz_meas = measureZZ(given_circuit)\n",
    "    \n",
    "    result = execute(zz_meas,Aer.get_backend('qasm_simulator'),shots = num_shots).result()\n",
    "    counts = result.get_counts(zz_meas)\n",
    "    \n",
    "    if '00' not in counts:\n",
    "        counts['00'] = 0\n",
    "    if '01' not in counts:\n",
    "        counts['01'] = 0\n",
    "    if '10' not in counts:\n",
    "        counts['10'] = 0\n",
    "    if '11' not in counts:\n",
    "        counts['11'] = 0\n",
    "        \n",
    "    total_counts = counts['00'] + counts['10'] + counts['01'] + counts['11']\n",
    "    ZZ = counts['00'] + counts['11'] - counts['01']  - counts['10'] \n",
    "    \n",
    "    zz = ZZ/total_counts\n",
    "    \n",
    "    return zz\n",
    "\n",
    "def measureXX(given_circuit):\n",
    "    xx_meas = given_circuit.copy()\n",
    "    xx_meas.h(0)\n",
    "    xx_meas.h(1)\n",
    "    xx_meas.measure_all()\n",
    "    return xx_meas\n",
    "    \n",
    "    \n",
    "\n",
    "def measure_XX(given_circuit, num_shots = 10000):\n",
    "    \n",
    "    xx_meas = measureXX(given_circuit)\n",
    "    \n",
    "    result = execute(xx_meas,Aer.get_backend('qasm_simulator'),shots=num_shots).result()\n",
    "    counts = result.get_counts(xx_meas)\n",
    "    \n",
    "    if '00' not in counts:\n",
    "        counts['00'] = 0\n",
    "    if '01' not in counts:\n",
    "        counts['01'] = 0\n",
    "    if '10' not in counts:\n",
    "        counts['10'] = 0\n",
    "    if '11' not in counts:\n",
    "        counts['11'] = 0 \n",
    "        \n",
    "    total_counts = counts['00'] + counts['10'] +counts['01'] +counts['11']\n",
    "    \n",
    "    XX = counts['00'] + counts['11'] -counts['01'] -counts['10']\n",
    "    \n",
    "    XX = XX/total_counts\n",
    "    \n",
    "    return XX\n",
    "\n",
    "def measureYY(given_circuit):\n",
    "    yy_meas = given_circuit.copy()\n",
    "    yy_meas.h(0)\n",
    "    yy_meas.h(1)\n",
    "    yy_meas.sdg(0)\n",
    "    yy_meas.sdg(1)\n",
    "    \n",
    "    \n",
    "    yy_meas.measure_all()\n",
    "    \n",
    "    return yy_meas\n",
    "\n",
    "def measure_YY(given_circuit,num_shots = 10000):\n",
    "    \n",
    "    yy_meas = measureYY(given_circuit)\n",
    "    \n",
    "    result = execute(yy_meas,Aer.get_backend('qasm_simulator'),shots=num_shots).result()\n",
    "    counts = result.get_counts(yy_meas)\n",
    "    \n",
    "    if '00' not in counts:\n",
    "        counts['00'] = 0\n",
    "    if '01' not in counts:\n",
    "        counts['01'] = 0\n",
    "    if '10' not in counts:\n",
    "        counts['10'] = 0\n",
    "    if '11' not in counts:\n",
    "        counts['11'] = 0\n",
    "        \n",
    "    \n",
    "    total_counts = counts['00']  + counts['10']  + counts['01']  + counts['11']   \n",
    "    YY =  counts ['00'] + counts['11'] - counts['10'] - counts['01'] \n",
    "    YY = YY/total_counts\n",
    "    \n",
    "    return YY\n",
    "    \n",
    "def measureII(given_circuit):\n",
    "    II_meas = given_circuit.copy()\n",
    "    II_meas.measure_all()\n",
    "    return II_meas\n",
    "\n",
    "def measure_II(given_circuit,num_shots = 10000):\n",
    "    \n",
    "    II_meas = measureII(given_circuit)\n",
    "    \n",
    "    result = execute(II_meas,Aer.get_backend('qasm_simulator'),shots = num_shots).result()\n",
    "    counts = result.get_counts(II_meas)\n",
    "    \n",
    "    if '00' not in counts:\n",
    "        counts['00'] = 0\n",
    "    if '10' not in counts:\n",
    "        counts['10'] = 0  \n",
    "    if '01' not in counts:\n",
    "        counts['01'] = 0  \n",
    "    if '11' not in counts:\n",
    "        counts['11'] = 0\n",
    "\n",
    "    total_counts = counts['00']  + counts['11'] + counts['01'] +counts['10']\n",
    "\n",
    "    II= counts['00']  + counts['11'] + counts['10'] + counts['01']\n",
    "    \n",
    "    II = II/total_counts\n",
    "    \n",
    "    return II\n",
    "\n",
    "def get_energy(given_circuit,num_shots = 10000):\n",
    "    \n",
    "    xx = measure_XX(given_circuit,num_shots=num_shots)\n",
    "    yy = measure_YY(given_circuit,num_shots=num_shots)\n",
    "    zz = measure_ZZ(given_circuit,num_shots=num_shots)\n",
    "    ii = measure_II(given_circuit,num_shots=num_shots)\n",
    "    \n",
    "    energy = 0.5*(zz + ii - yy -xx)\n",
    "    \n",
    "    return energy\n",
    "     "
   ]
  },
  {
   "cell_type": "code",
   "execution_count": 8,
   "metadata": {},
   "outputs": [
    {
     "name": "stdout",
     "output_type": "stream",
     "text": [
      "Angle: 2.356194  <H>: 0.498800\n",
      "Angle: 2.390572  <H>: 0.508500\n",
      "Angle: 2.424950  <H>: 0.490400\n",
      "Angle: 2.459328  <H>: 0.500400\n",
      "Angle: 2.493705  <H>: 0.490800\n",
      "Angle: 2.528083  <H>: 0.477500\n",
      "Angle: 2.562461  <H>: 0.469100\n",
      "Angle: 2.596838  <H>: 0.437200\n",
      "Angle: 2.631216  <H>: 0.424000\n",
      "Angle: 2.665594  <H>: 0.404000\n",
      "Angle: 2.699971  <H>: 0.384400\n",
      "Angle: 2.734349  <H>: 0.367200\n",
      "Angle: 2.768727  <H>: 0.352200\n",
      "Angle: 2.803105  <H>: 0.305800\n",
      "Angle: 2.837482  <H>: 0.291800\n",
      "Angle: 2.871860  <H>: 0.246000\n",
      "Angle: 2.906238  <H>: 0.234600\n",
      "Angle: 2.940615  <H>: 0.200600\n",
      "Angle: 2.974993  <H>: 0.173500\n",
      "Angle: 3.009371  <H>: 0.129700\n",
      "Angle: 3.043748  <H>: 0.100900\n",
      "Angle: 3.078126  <H>: 0.063500\n",
      "Angle: 3.112504  <H>: 0.011500\n",
      "Angle: 3.146882  <H>: -0.013300\n",
      "Angle: 3.181259  <H>: -0.045100\n",
      "Angle: 3.215637  <H>: -0.064700\n",
      "Angle: 3.250015  <H>: -0.102300\n",
      "Angle: 3.284392  <H>: -0.137700\n",
      "Angle: 3.318770  <H>: -0.182300\n",
      "Angle: 3.353148  <H>: -0.202200\n",
      "Angle: 3.387525  <H>: -0.231600\n",
      "Angle: 3.421903  <H>: -0.266200\n",
      "Angle: 3.456281  <H>: -0.287000\n",
      "Angle: 3.490659  <H>: -0.309100\n",
      "Angle: 3.525036  <H>: -0.335800\n",
      "Angle: 3.559414  <H>: -0.362900\n",
      "Angle: 3.593792  <H>: -0.387600\n",
      "Angle: 3.628169  <H>: -0.420600\n",
      "Angle: 3.662547  <H>: -0.423300\n",
      "Angle: 3.696925  <H>: -0.445100\n",
      "Angle: 3.731302  <H>: -0.464900\n",
      "Angle: 3.765680  <H>: -0.473100\n",
      "Angle: 3.800058  <H>: -0.487400\n",
      "Angle: 3.834435  <H>: -0.508200\n",
      "Angle: 3.868813  <H>: -0.498500\n",
      "Angle: 3.903191  <H>: -0.517300\n",
      "Angle: 3.937569  <H>: -0.519600\n",
      "Angle: 3.971946  <H>: -0.494800\n",
      "Angle: 4.006324  <H>: -0.496200\n",
      "Angle: 4.040702  <H>: -0.482500\n",
      "Angle: 4.075079  <H>: -0.469300\n",
      "Angle: 4.109457  <H>: -0.474600\n",
      "Angle: 4.143835  <H>: -0.448000\n",
      "Angle: 4.178212  <H>: -0.435000\n",
      "Angle: 4.212590  <H>: -0.417900\n",
      "Angle: 4.246968  <H>: -0.394500\n",
      "Angle: 4.281346  <H>: -0.387700\n",
      "Angle: 4.315723  <H>: -0.349900\n",
      "Angle: 4.350101  <H>: -0.304800\n",
      "Angle: 4.384479  <H>: -0.301100\n",
      "Angle: 4.418856  <H>: -0.273400\n",
      "Angle: 4.453234  <H>: -0.258300\n",
      "Angle: 4.487612  <H>: -0.219000\n",
      "Angle: 4.521989  <H>: -0.181000\n",
      "Angle: 4.556367  <H>: -0.152000\n",
      "Angle: 4.590745  <H>: -0.137000\n",
      "Angle: 4.625123  <H>: -0.086800\n",
      "Angle: 4.659500  <H>: -0.048300\n",
      "Angle: 4.693878  <H>: -0.031300\n",
      "Angle: 4.728256  <H>: -0.007800\n",
      "Angle: 4.762633  <H>: 0.055500\n",
      "Angle: 4.797011  <H>: 0.085400\n",
      "Angle: 4.831389  <H>: 0.120000\n",
      "Angle: 4.865766  <H>: 0.150500\n",
      "Angle: 4.900144  <H>: 0.185600\n",
      "Angle: 4.934522  <H>: 0.205400\n",
      "Angle: 4.968899  <H>: 0.241300\n",
      "Angle: 5.003277  <H>: 0.278200\n",
      "Angle: 5.037655  <H>: 0.314500\n",
      "Angle: 5.072033  <H>: 0.337600\n",
      "Angle: 5.106410  <H>: 0.343000\n",
      "Angle: 5.140788  <H>: 0.374000\n",
      "Angle: 5.175166  <H>: 0.393700\n",
      "Angle: 5.209543  <H>: 0.427800\n",
      "Angle: 5.243921  <H>: 0.459900\n",
      "Angle: 5.278299  <H>: 0.434900\n",
      "Angle: 5.312676  <H>: 0.468000\n",
      "Angle: 5.347054  <H>: 0.475900\n",
      "Angle: 5.381432  <H>: 0.475500\n",
      "Angle: 5.415810  <H>: 0.503000\n",
      "Angle: 5.450187  <H>: 0.500900\n",
      "Angle: 5.484565  <H>: 0.501200\n",
      "Angle: 5.518943  <H>: 0.494400\n",
      "Angle: 5.553320  <H>: 0.484100\n",
      "Angle: 5.587698  <H>: 0.488600\n",
      "Angle: 5.622076  <H>: 0.487900\n",
      "Angle: 5.656453  <H>: 0.471600\n",
      "Angle: 5.690831  <H>: 0.460200\n",
      "Angle: 5.725209  <H>: 0.467900\n",
      "Angle: 5.759587  <H>: 0.447300\n",
      "Angle_min = 2.356194 H_min = -0.519600\n"
     ]
    },
    {
     "data": {
      "image/png": "[encoded data removed]",
      "text/plain": [
       "<Figure size 432x288 with 1 Axes>"
      ]
     },
     "metadata": {
      "needs_background": "light"
     },
     "output_type": "display_data"
    }
   ],
   "source": [
    "H = []\n",
    "\n",
    "angle = np.linspace(3*pi/4,11*pi/6,100)\n",
    "\n",
    "for i in range(0,len(angle)):\n",
    "\n",
    "    ansatz = var_circuit(variational_parameter= angle[i])\n",
    "    energy = get_energy(ansatz)\n",
    "    H.append(enraphiergy)\n",
    "    print('Angle: %f  <H>: %f' %(angle[i],energy))\n",
    "\n",
    "\n",
    "\n",
    "    "
   ]
  },
  {
   "cell_type": "code",
   "execution_count": 9,
   "metadata": {},
   "outputs": [
    {
     "name": "stdout",
     "output_type": "stream",
     "text": [
      "Angle_min = 2.356194 H_min = -0.519600\n"
     ]
    },
    {
     "data": {
      "image/png": "[encoded data removed]",
      "text/plain": [
       "<Figure size 432x288 with 1 Axes>"
      ]
     },
     "metadata": {
      "needs_background": "light"
     },
     "output_type": "display_data"
    }
   ],
   "source": [
    "gc = plt.plot(angle,H)\n",
    "plt.title('<H> x <Angle>')\n",
    "\n",
    "print('Angle_min = %f H_min = %f' %(min(angle),min(H)))\n"
   ]
  }
 ],
 "metadata": {
  "kernelspec": {
   "display_name": "Python 3",
   "language": "python",
   "name": "python3"
  },
  "language_info": {
   "codemirror_mode": {
    "name": "ipython",
    "version": 3
   },
   "file_extension": ".py",
   "mimetype": "text/x-python",
   "name": "python",
   "nbconvert_exporter": "python",
   "pygments_lexer": "ipython3",
   "version": "3.7.6"
  }
 },
 "nbformat": 4,
 "nbformat_minor": 4
}
